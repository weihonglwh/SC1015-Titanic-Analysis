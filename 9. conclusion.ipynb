{
 "cells": [
  {
   "attachments": {},
   "cell_type": "markdown",
   "metadata": {},
   "source": [
    "## **Conclusion of the Titanic Analysis**"
   ]
  },
  {
   "attachments": {},
   "cell_type": "markdown",
   "metadata": {},
   "source": [
    "With our findings and machine learning models, we dedude that both Support Vector Machine (SVM) and Random Forest yields similar results with SVM being slightly better. \n",
    "\n",
    "As we achieved quite a high accuracy for our test data, we are **84.8%** confident that the survivability can be predicted with the following predictors: `Fare`, `Parch`, `Family_Size`, `Sex`, `Pclass`, `Embarked`, `Alone`. \n",
    "\n",
    "With this new insights, we believe that these findings can be used in future maritime disaster aid and prediction to maximise the amount of survivors."
   ]
  }
 ],
 "metadata": {
  "language_info": {
   "name": "python"
  },
  "orig_nbformat": 4
 },
 "nbformat": 4,
 "nbformat_minor": 2
}
